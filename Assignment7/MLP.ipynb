{
 "cells": [
  {
   "cell_type": "code",
   "execution_count": 1,
   "id": "59e41439",
   "metadata": {},
   "outputs": [],
   "source": [
    "import numpy as np"
   ]
  },
  {
   "cell_type": "code",
   "execution_count": 3,
   "id": "05a97e8c",
   "metadata": {},
   "outputs": [],
   "source": [
    "def forwardPass(inputs, weight, bias, activation = 'linear'):\n",
    "    w_sum = np.dot(inputs, weight)+ bias\n",
    "    \n",
    "    if activation == 'relu':\n",
    "        act = np.maximum(w_sum, 0)\n",
    "    else:\n",
    "        act = w_sum\n",
    "    return act"
   ]
  },
  {
   "cell_type": "code",
   "execution_count": 4,
   "id": "f74ab703",
   "metadata": {},
   "outputs": [],
   "source": [
    "W_H = np.array([[0.00192761, -0.78845304, 0.30310717, 0.44131625, 0.32792646, -0.02451803, 1.43445349, -1.12972116]])\n",
    "b_H = np.array([-0.02657719, -1.15885878, -0.79183501, -0.33550513, -0.23438406, -0.25078532, 0.22305705, 0.80253315])"
   ]
  },
  {
   "cell_type": "code",
   "execution_count": 5,
   "id": "0460c465",
   "metadata": {},
   "outputs": [],
   "source": [
    "W_o = np.array([[-0.77540326], [ 0.5030424 ], [ 0.37374797], [-0.20287184], [-0.35956827], [-0.54576212], [ 1.04326093], [ 0.8857621 ]])\n",
    "b_o = np.array([ 0.04351173])"
   ]
  },
  {
   "cell_type": "code",
   "execution_count": 6,
   "id": "d52bf659",
   "metadata": {},
   "outputs": [],
   "source": [
    "inputs = np.array([[-2], [0], [2]])"
   ]
  },
  {
   "cell_type": "code",
   "execution_count": 7,
   "id": "f1e9ec4d",
   "metadata": {},
   "outputs": [],
   "source": [
    "h_out = forwardPass(inputs, W_H, b_H, 'relu')"
   ]
  },
  {
   "cell_type": "code",
   "execution_count": 8,
   "id": "4190bdde",
   "metadata": {},
   "outputs": [
    {
     "name": "stdout",
     "output_type": "stream",
     "text": [
      "Hidden Layer Output (ReLU)\n",
      "================================\n",
      "[[0.         0.4180473  0.         0.         0.         0.\n",
      "  0.         3.06197547]\n",
      " [0.         0.         0.         0.         0.         0.\n",
      "  0.22305705 0.80253315]\n",
      " [0.         0.         0.         0.54712737 0.42146886 0.\n",
      "  3.09196403 0.        ]] \n",
      "\n"
     ]
    }
   ],
   "source": [
    "print('Hidden Layer Output (ReLU)')\n",
    "print('================================')\n",
    "print(h_out, \"\\n\")"
   ]
  },
  {
   "cell_type": "code",
   "execution_count": 9,
   "id": "823b3391",
   "metadata": {},
   "outputs": [],
   "source": [
    "o_out = forwardPass(h_out, W_o, b_o, 'linear')"
   ]
  },
  {
   "cell_type": "code",
   "execution_count": 10,
   "id": "1f111fb3",
   "metadata": {},
   "outputs": [
    {
     "name": "stdout",
     "output_type": "stream",
     "text": [
      "Output Layer Output (Linear)\n",
      "================================\n",
      "[[2.96598907]\n",
      " [0.98707188]\n",
      " [3.00669343]] \n",
      "\n"
     ]
    }
   ],
   "source": [
    "print('Output Layer Output (Linear)')\n",
    "print('================================')\n",
    "print(o_out, \"\\n\")"
   ]
  },
  {
   "cell_type": "code",
   "execution_count": null,
   "id": "3c1ec329",
   "metadata": {},
   "outputs": [],
   "source": []
  }
 ],
 "metadata": {
  "kernelspec": {
   "display_name": "Python 3 (ipykernel)",
   "language": "python",
   "name": "python3"
  },
  "language_info": {
   "codemirror_mode": {
    "name": "ipython",
    "version": 3
   },
   "file_extension": ".py",
   "mimetype": "text/x-python",
   "name": "python",
   "nbconvert_exporter": "python",
   "pygments_lexer": "ipython3",
   "version": "3.10.4"
  }
 },
 "nbformat": 4,
 "nbformat_minor": 5
}
