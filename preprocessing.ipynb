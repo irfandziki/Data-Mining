{
  "nbformat": 4,
  "nbformat_minor": 0,
  "metadata": {
    "colab": {
      "name": "preprocessing.ipynb",
      "provenance": [],
      "collapsed_sections": [],
      "authorship_tag": "ABX9TyM9Iun2buOzIXr7aJLZca6b",
      "include_colab_link": true
    },
    "kernelspec": {
      "name": "python3",
      "display_name": "Python 3"
    },
    "language_info": {
      "name": "python"
    }
  },
  "cells": [
    {
      "cell_type": "markdown",
      "metadata": {
        "id": "view-in-github",
        "colab_type": "text"
      },
      "source": [
        "<a href=\"https://colab.research.google.com/github/irfandziki/Data-Mining/blob/master/preprocessing.ipynb\" target=\"_parent\"><img src=\"https://colab.research.google.com/assets/colab-badge.svg\" alt=\"Open In Colab\"/></a>"
      ]
    },
    {
      "cell_type": "code",
      "execution_count": 1,
      "metadata": {
        "id": "WLD3m2e1beaY"
      },
      "outputs": [],
      "source": [
        "import numpy as np\n",
        "import matplotlib.pyplot as plt\n",
        "import pandas as pd\n"
      ]
    },
    {
      "cell_type": "code",
      "source": [
        "dataset = pd.read_csv('Data.csv')\n",
        "x = dataset.iloc[:, :-1].values\n",
        "y = dataset.iloc[:, -1].values"
      ],
      "metadata": {
        "id": "FaHszG3Qe3m_"
      },
      "execution_count": 15,
      "outputs": []
    },
    {
      "cell_type": "code",
      "source": [
        "print(x)"
      ],
      "metadata": {
        "colab": {
          "base_uri": "https://localhost:8080/"
        },
        "id": "QC-iaKD6geJw",
        "outputId": "99183934-c9cb-4f5f-a370-e61eeafbd2a7"
      },
      "execution_count": 16,
      "outputs": [
        {
          "output_type": "stream",
          "name": "stdout",
          "text": [
            "[['Sunny' 85.0 85.0]\n",
            " ['Sunny' 80.0 90.0]\n",
            " ['Overcast' 83.0 78.0]\n",
            " ['Rain' 70.0 96.0]\n",
            " ['Rain' 68.0 nan]\n",
            " ['Rain' 65.0 70.0]\n",
            " ['Overcast' 64.0 65.0]\n",
            " ['Sunny' nan 95.0]\n",
            " ['Rain' 75.0 80.0]\n",
            " ['Sunny' 75.0 70.0]]\n"
          ]
        }
      ]
    },
    {
      "cell_type": "code",
      "source": [
        "print(y)"
      ],
      "metadata": {
        "colab": {
          "base_uri": "https://localhost:8080/"
        },
        "id": "TrSvZ_qykcZS",
        "outputId": "24f8d592-e996-45c5-bf5c-4fd840adb6ad"
      },
      "execution_count": 17,
      "outputs": [
        {
          "output_type": "stream",
          "name": "stdout",
          "text": [
            "['no' 'no' 'yes' 'yes' 'yes' 'no' 'yes' 'no' 'yes' 'yes']\n"
          ]
        }
      ]
    },
    {
      "cell_type": "code",
      "source": [
        "from sklearn.impute import SimpleImputer\n",
        "imputer = SimpleImputer(missing_values=np.nan, strategy='mean')\n",
        "imputer.fit(x[:, 1:3])\n",
        "x[:, 1:3] = imputer.transform(x[:, 1:3])"
      ],
      "metadata": {
        "id": "CQWtl5iBklXi"
      },
      "execution_count": 21,
      "outputs": []
    },
    {
      "cell_type": "code",
      "source": [
        "print(x)"
      ],
      "metadata": {
        "colab": {
          "base_uri": "https://localhost:8080/"
        },
        "id": "YW6ZBzT3ld16",
        "outputId": "39e0a122-7317-4876-8f86-7a59362cc08f"
      },
      "execution_count": 22,
      "outputs": [
        {
          "output_type": "stream",
          "name": "stdout",
          "text": [
            "[['Sunny' 85.0 85.0]\n",
            " ['Sunny' 80.0 90.0]\n",
            " ['Overcast' 83.0 78.0]\n",
            " ['Rain' 70.0 96.0]\n",
            " ['Rain' 68.0 81.0]\n",
            " ['Rain' 65.0 70.0]\n",
            " ['Overcast' 64.0 65.0]\n",
            " ['Sunny' 73.88888888888889 95.0]\n",
            " ['Rain' 75.0 80.0]\n",
            " ['Sunny' 75.0 70.0]]\n"
          ]
        }
      ]
    },
    {
      "cell_type": "code",
      "source": [
        "from sklearn.compose import ColumnTransformer\n",
        "from sklearn.preprocessing import OneHotEncoder\n",
        "ct = ColumnTransformer(transformers=[('encoder', OneHotEncoder(), [0])], remainder='passthrough')\n",
        "x = np.array(ct.fit_transform(x))"
      ],
      "metadata": {
        "id": "OiQTn0wrmA2y"
      },
      "execution_count": 24,
      "outputs": []
    },
    {
      "cell_type": "code",
      "source": [
        "print(x)"
      ],
      "metadata": {
        "colab": {
          "base_uri": "https://localhost:8080/"
        },
        "id": "U1vpwvdym-AK",
        "outputId": "b45c462d-97d3-42c7-ad22-f816517e4109"
      },
      "execution_count": 25,
      "outputs": [
        {
          "output_type": "stream",
          "name": "stdout",
          "text": [
            "[[0.0 0.0 1.0 85.0 85.0]\n",
            " [0.0 0.0 1.0 80.0 90.0]\n",
            " [1.0 0.0 0.0 83.0 78.0]\n",
            " [0.0 1.0 0.0 70.0 96.0]\n",
            " [0.0 1.0 0.0 68.0 81.0]\n",
            " [0.0 1.0 0.0 65.0 70.0]\n",
            " [1.0 0.0 0.0 64.0 65.0]\n",
            " [0.0 0.0 1.0 73.88888888888889 95.0]\n",
            " [0.0 1.0 0.0 75.0 80.0]\n",
            " [0.0 0.0 1.0 75.0 70.0]]\n"
          ]
        }
      ]
    },
    {
      "cell_type": "code",
      "source": [
        "from sklearn.preprocessing import LabelEncoder\n",
        "le = LabelEncoder()\n",
        "y = le.fit_transform(y)"
      ],
      "metadata": {
        "id": "zLgqrWCqnIh_"
      },
      "execution_count": 26,
      "outputs": []
    },
    {
      "cell_type": "code",
      "source": [
        "print(y)"
      ],
      "metadata": {
        "colab": {
          "base_uri": "https://localhost:8080/"
        },
        "id": "LBjPyDy3nYDq",
        "outputId": "c6ee4a21-0f3f-413c-9b85-f3859d3c747d"
      },
      "execution_count": 27,
      "outputs": [
        {
          "output_type": "stream",
          "name": "stdout",
          "text": [
            "[0 0 1 1 1 0 1 0 1 1]\n"
          ]
        }
      ]
    },
    {
      "cell_type": "code",
      "source": [
        "from sklearn.model_selection import train_test_split\n",
        "x_train, x_test, y_train, y_test = train_test_split(x, y, test_size=0.2, random_state=1)"
      ],
      "metadata": {
        "id": "I461zhQAndVb"
      },
      "execution_count": 29,
      "outputs": []
    },
    {
      "cell_type": "code",
      "source": [
        "print(x_train)"
      ],
      "metadata": {
        "colab": {
          "base_uri": "https://localhost:8080/"
        },
        "id": "Y6wR4YkJn_N0",
        "outputId": "64880a16-db3b-4fb5-fc54-f4a712604bd2"
      },
      "execution_count": 30,
      "outputs": [
        {
          "output_type": "stream",
          "name": "stdout",
          "text": [
            "[[1.0 0.0 0.0 64.0 65.0]\n",
            " [0.0 1.0 0.0 68.0 81.0]\n",
            " [0.0 0.0 1.0 85.0 85.0]\n",
            " [0.0 1.0 0.0 70.0 96.0]\n",
            " [0.0 0.0 1.0 80.0 90.0]\n",
            " [0.0 0.0 1.0 73.88888888888889 95.0]\n",
            " [0.0 1.0 0.0 75.0 80.0]\n",
            " [0.0 1.0 0.0 65.0 70.0]]\n"
          ]
        }
      ]
    },
    {
      "cell_type": "code",
      "source": [
        "print (x_test)"
      ],
      "metadata": {
        "colab": {
          "base_uri": "https://localhost:8080/"
        },
        "id": "0Ra3GqFgoSIy",
        "outputId": "8e585432-9ab7-401b-833d-e0203e9882a8"
      },
      "execution_count": 31,
      "outputs": [
        {
          "output_type": "stream",
          "name": "stdout",
          "text": [
            "[[1.0 0.0 0.0 83.0 78.0]\n",
            " [0.0 0.0 1.0 75.0 70.0]]\n"
          ]
        }
      ]
    },
    {
      "cell_type": "code",
      "source": [
        "print (y_train)"
      ],
      "metadata": {
        "colab": {
          "base_uri": "https://localhost:8080/"
        },
        "id": "KS7JfZnOoYLr",
        "outputId": "2d156dcb-126e-417e-a18e-a2a5e610acfd"
      },
      "execution_count": 32,
      "outputs": [
        {
          "output_type": "stream",
          "name": "stdout",
          "text": [
            "[1 1 0 1 0 0 1 0]\n"
          ]
        }
      ]
    },
    {
      "cell_type": "code",
      "source": [
        "print (y_test)"
      ],
      "metadata": {
        "colab": {
          "base_uri": "https://localhost:8080/"
        },
        "id": "ZmNADCT_ocez",
        "outputId": "143f4933-3a14-43c9-d746-bf30090c2fad"
      },
      "execution_count": 33,
      "outputs": [
        {
          "output_type": "stream",
          "name": "stdout",
          "text": [
            "[1 1]\n"
          ]
        }
      ]
    },
    {
      "cell_type": "code",
      "source": [
        "from sklearn.preprocessing import StandardScaler\n",
        "sc = StandardScaler()\n",
        "x_train[:, 3:] = sc.fit_transform(x_train[:, 3:])\n",
        "x_test[:, 3:] = sc.transform(x_test[:, 3:])"
      ],
      "metadata": {
        "id": "o9jQKOQFol5x"
      },
      "execution_count": 34,
      "outputs": []
    },
    {
      "cell_type": "code",
      "source": [
        "print(x_train)"
      ],
      "metadata": {
        "colab": {
          "base_uri": "https://localhost:8080/"
        },
        "id": "l9f7B29KpSQU",
        "outputId": "0facacbc-3106-4962-92eb-418d3b417750"
      },
      "execution_count": 35,
      "outputs": [
        {
          "output_type": "stream",
          "name": "stdout",
          "text": [
            "[[1.0 0.0 0.0 -1.2567613468357999 -1.7006292919168278]\n",
            " [0.0 1.0 0.0 -0.6729754308862672 -0.16766767666785626]\n",
            " [0.0 0.0 1.0 1.8081147118992464 0.21557272714438663]\n",
            " [0.0 1.0 0.0 -0.38108247291150094 1.2694838376280546]\n",
            " [0.0 0.0 1.0 1.0783823169623306 0.6946232319096902]\n",
            " [0.0 0.0 1.0 0.18648716759498868 1.1736737366749939]\n",
            " [0.0 1.0 0.0 0.3486499220254149 -0.263477777620917]\n",
            " [0.0 1.0 0.0 -1.1108148678484167 -1.2215787871515242]]\n"
          ]
        }
      ]
    },
    {
      "cell_type": "code",
      "source": [
        "print (x_test)"
      ],
      "metadata": {
        "colab": {
          "base_uri": "https://localhost:8080/"
        },
        "id": "a4Yz0K6ppbab",
        "outputId": "d5c4ca9f-a30f-4715-c6d3-2a8182ce45cd"
      },
      "execution_count": 36,
      "outputs": [
        {
          "output_type": "stream",
          "name": "stdout",
          "text": [
            "[[1.0 0.0 0.0 1.5162217539244802 -0.45509797952703845]\n",
            " [0.0 0.0 1.0 0.3486499220254149 -1.2215787871515242]]\n"
          ]
        }
      ]
    }
  ]
}