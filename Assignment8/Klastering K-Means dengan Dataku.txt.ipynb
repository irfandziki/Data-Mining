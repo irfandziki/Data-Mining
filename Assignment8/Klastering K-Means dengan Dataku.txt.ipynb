{
 "cells": [
  {
   "cell_type": "code",
   "execution_count": null,
   "id": "dbd4eebc",
   "metadata": {},
   "outputs": [],
   "source": [
    "import numpy as np\n",
    "from matplotlib import pyplot as plt\n",
    "from matplotlib.pyplot import cm\n",
    "import time\n",
    "import itertools"
   ]
  },
  {
   "cell_type": "code",
   "execution_count": null,
   "id": "d1594128",
   "metadata": {},
   "outputs": [],
   "source": [
    "datasetPath = \"dataku.txt\"\n",
    "dataset = np.loadtxt(datasetPath, delimiter=\" \")"
   ]
  },
  {
   "cell_type": "code",
   "execution_count": null,
   "id": "946ef83f",
   "metadata": {},
   "outputs": [],
   "source": [
    "k = 2\n",
    "iterationCounter = 0\n",
    "input = dataset"
   ]
  },
  {
   "cell_type": "code",
   "execution_count": null,
   "id": "8c81f4c5",
   "metadata": {},
   "outputs": [],
   "source": [
    "def initCentroid(dataIn, k):\n",
    "    result = dataIn[np.random.choice(dataIn.shape[0], k, replace=False)]\n",
    "    return result"
   ]
  },
  {
   "cell_type": "code",
   "execution_count": null,
   "id": "9fa497c9",
   "metadata": {},
   "outputs": [],
   "source": [
    "def plotClusterResult(listClusterMembers, centroid, iteration, converged):\n",
    "    n = listclusterMembers.__len__()\n",
    "    color = iter(cm.rainbow(np.linspace(0, i, n)))\n",
    "    plt.figure(\"result\")\n",
    "    plt.clf()\n",
    "    plt.title(\"iteration-\" + iteration)\n",
    "    marker = itertools.cycle(('.', '*', '^', 'x', '+'))\n",
    "    for i in range(n):\n",
    "        col = next(color)\n",
    "        memberCluster = np.asmatrix(listClusterMembers[i])\n",
    "        plt.scatter(np.ravel (memberCluster[:, 0]), np.ravel(memberCluster[:, 1]),\n",
    "                    marker=marker. _next_(), s=100, c=col, label=\"klaster-\" +str(i+1))\n",
    "        for i in range(n):\n",
    "            plt.scatter((centroid[i, 0]), (centroid[i, 1]), marker=marker.__next__()\n",
    "                        , c=col, label=\"centroid-\" + str(i + 1))\n",
    "        if(converged == 0):\n",
    "            plt.legend()\n",
    "            plt.ion()\n",
    "            plt.show()\n",
    "            plt.pause(0.1)\n",
    "        if (converged == 1):\n",
    "            plt.legend()\n",
    "            plt.show(block=True)"
   ]
  },
  {
   "cell_type": "code",
   "execution_count": null,
   "id": "2000ca6f",
   "metadata": {},
   "outputs": [],
   "source": [
    "def kMeans (data, centroidInit):\n",
    "    nCluster = k\n",
    "    global iterationCounter\n",
    "    centroidInit = np.matrix(centroidInit)\n",
    "    while(True):\n",
    "        iterationCounter +=1\n",
    "        euclideanMatrixAllCluster = np.ndarray(shape=(data.shape[0], 0))\n",
    "        for i in range(0, nCluster):\n",
    "            centroidRepeated = np.repeat(centroidInit[i,:], data.shape[0], axis=0)\n",
    "            deltaMatrix = abs(np. subtract(data,centroidRepeated))\n",
    "            euclideanMatrix = np.sqrt(np.square(deltaMatrix).sum(axis=1))\n",
    "            euclideanMatrixAllCluster = \\\n",
    "                np.concatenate((euclideanMatrixAllCluster, euclideanMatrix), axis=1)\n",
    "            clusterMatrix = np.ravel(np.argmin(np.matrix(euclideanMatrixAllCluster), axis=1))\n",
    "            listClusterMember = [[] for i in range(k)]\n",
    "            for i in range(0, data.shape[0]):\n",
    "                listClusterMember[np.asscalar(clusterMatrix[i])].append(data[i,:])\n",
    "            newCentroid = np.ndarray(shape=(0, centroidInit.shape[1]))\n",
    "            for i in range(0, nCluster):\n",
    "                memberCluster = np.asmatrix(listClusterMember[i]) \n",
    "                centroidCluster = memberCluster.mean(axis=1)\n",
    "                newCentroid = np.concatenate((newCentroid, centroidCluster), axis=1) \n",
    "            print(\"iter: \", iterationCounter)\n",
    "            print(\"centroid: \", newCentroid)\n",
    "            if((centroidInit == newCentroid).all()):\n",
    "                break\n",
    "            centroidInit = newCentroid\n",
    "            plotClusterResult(listClusterMember, centroidInit, str(iterationCounter), 0)\n",
    "            time.sleep(1)\n",
    "    return listClusterMember, centroidInit"
   ]
  },
  {
   "cell_type": "code",
   "execution_count": null,
   "id": "0d8c38c6",
   "metadata": {},
   "outputs": [],
   "source": [
    "centroidInit = initCentroid(input, k)\n",
    "clusterResult, centroid = kMeans(input, centroidInit)\n",
    "plotClusterResult(clusterResult, centroid, str(iterationCounter) + \" (convergen)\", 1)"
   ]
  },
  {
   "cell_type": "code",
   "execution_count": null,
   "id": "291fcead",
   "metadata": {},
   "outputs": [],
   "source": []
  }
 ],
 "metadata": {
  "kernelspec": {
   "display_name": "Python 3 (ipykernel)",
   "language": "python",
   "name": "python3"
  },
  "language_info": {
   "codemirror_mode": {
    "name": "ipython",
    "version": 3
   },
   "file_extension": ".py",
   "mimetype": "text/x-python",
   "name": "python",
   "nbconvert_exporter": "python",
   "pygments_lexer": "ipython3",
   "version": "3.10.4"
  }
 },
 "nbformat": 4,
 "nbformat_minor": 5
}
