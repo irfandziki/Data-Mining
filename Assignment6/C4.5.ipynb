{
 "cells": [
  {
   "cell_type": "code",
   "execution_count": 1,
   "id": "8a103831",
   "metadata": {},
   "outputs": [],
   "source": [
    "import numpy as np\n",
    "import pandas as pd\n",
    "from sklearn import tree"
   ]
  },
  {
   "cell_type": "code",
   "execution_count": 2,
   "id": "fd719df2",
   "metadata": {},
   "outputs": [],
   "source": [
    "irisDataset = pd.read_csv('Dataset Iris.csv', delimiter=';', header=0)"
   ]
  },
  {
   "cell_type": "code",
   "execution_count": 3,
   "id": "f3408258",
   "metadata": {},
   "outputs": [
    {
     "data": {
      "text/html": [
       "<div>\n",
       "<style scoped>\n",
       "    .dataframe tbody tr th:only-of-type {\n",
       "        vertical-align: middle;\n",
       "    }\n",
       "\n",
       "    .dataframe tbody tr th {\n",
       "        vertical-align: top;\n",
       "    }\n",
       "\n",
       "    .dataframe thead th {\n",
       "        text-align: right;\n",
       "    }\n",
       "</style>\n",
       "<table border=\"1\" class=\"dataframe\">\n",
       "  <thead>\n",
       "    <tr style=\"text-align: right;\">\n",
       "      <th></th>\n",
       "      <th>Id</th>\n",
       "      <th>SepalLengthCm</th>\n",
       "      <th>SepalWidthCm</th>\n",
       "      <th>PetalLengthCm</th>\n",
       "      <th>PetalWidthCm</th>\n",
       "      <th>Species</th>\n",
       "    </tr>\n",
       "  </thead>\n",
       "  <tbody>\n",
       "    <tr>\n",
       "      <th>0</th>\n",
       "      <td>1</td>\n",
       "      <td>6.07</td>\n",
       "      <td>3.01</td>\n",
       "      <td>4.07</td>\n",
       "      <td>1.05</td>\n",
       "      <td>Iriscolor</td>\n",
       "    </tr>\n",
       "    <tr>\n",
       "      <th>1</th>\n",
       "      <td>2</td>\n",
       "      <td>6.03</td>\n",
       "      <td>2.03</td>\n",
       "      <td>4.04</td>\n",
       "      <td>1.03</td>\n",
       "      <td>Iriscolor</td>\n",
       "    </tr>\n",
       "    <tr>\n",
       "      <th>2</th>\n",
       "      <td>3</td>\n",
       "      <td>5.06</td>\n",
       "      <td>3.00</td>\n",
       "      <td>4.01</td>\n",
       "      <td>1.03</td>\n",
       "      <td>Iriscolor</td>\n",
       "    </tr>\n",
       "    <tr>\n",
       "      <th>3</th>\n",
       "      <td>4</td>\n",
       "      <td>5.05</td>\n",
       "      <td>2.05</td>\n",
       "      <td>4.00</td>\n",
       "      <td>1.03</td>\n",
       "      <td>Iriscolor</td>\n",
       "    </tr>\n",
       "    <tr>\n",
       "      <th>4</th>\n",
       "      <td>5</td>\n",
       "      <td>5.05</td>\n",
       "      <td>2.06</td>\n",
       "      <td>4.04</td>\n",
       "      <td>1.02</td>\n",
       "      <td>Iriscolor</td>\n",
       "    </tr>\n",
       "  </tbody>\n",
       "</table>\n",
       "</div>"
      ],
      "text/plain": [
       "   Id  SepalLengthCm  SepalWidthCm  PetalLengthCm  PetalWidthCm    Species\n",
       "0   1           6.07          3.01           4.07          1.05  Iriscolor\n",
       "1   2           6.03          2.03           4.04          1.03  Iriscolor\n",
       "2   3           5.06          3.00           4.01          1.03  Iriscolor\n",
       "3   4           5.05          2.05           4.00          1.03  Iriscolor\n",
       "4   5           5.05          2.06           4.04          1.02  Iriscolor"
      ]
     },
     "execution_count": 3,
     "metadata": {},
     "output_type": "execute_result"
    }
   ],
   "source": [
    "irisDataset.head()"
   ]
  },
  {
   "cell_type": "code",
   "execution_count": 4,
   "id": "d5375498",
   "metadata": {},
   "outputs": [],
   "source": [
    "irisDataset['Species'] = pd.factorize(irisDataset.Species)[0]"
   ]
  },
  {
   "cell_type": "code",
   "execution_count": 5,
   "id": "c5a7296e",
   "metadata": {},
   "outputs": [
    {
     "data": {
      "text/html": [
       "<div>\n",
       "<style scoped>\n",
       "    .dataframe tbody tr th:only-of-type {\n",
       "        vertical-align: middle;\n",
       "    }\n",
       "\n",
       "    .dataframe tbody tr th {\n",
       "        vertical-align: top;\n",
       "    }\n",
       "\n",
       "    .dataframe thead th {\n",
       "        text-align: right;\n",
       "    }\n",
       "</style>\n",
       "<table border=\"1\" class=\"dataframe\">\n",
       "  <thead>\n",
       "    <tr style=\"text-align: right;\">\n",
       "      <th></th>\n",
       "      <th>Id</th>\n",
       "      <th>SepalLengthCm</th>\n",
       "      <th>SepalWidthCm</th>\n",
       "      <th>PetalLengthCm</th>\n",
       "      <th>PetalWidthCm</th>\n",
       "      <th>Species</th>\n",
       "    </tr>\n",
       "  </thead>\n",
       "  <tbody>\n",
       "    <tr>\n",
       "      <th>0</th>\n",
       "      <td>1</td>\n",
       "      <td>6.07</td>\n",
       "      <td>3.01</td>\n",
       "      <td>4.07</td>\n",
       "      <td>1.05</td>\n",
       "      <td>0</td>\n",
       "    </tr>\n",
       "    <tr>\n",
       "      <th>1</th>\n",
       "      <td>2</td>\n",
       "      <td>6.03</td>\n",
       "      <td>2.03</td>\n",
       "      <td>4.04</td>\n",
       "      <td>1.03</td>\n",
       "      <td>0</td>\n",
       "    </tr>\n",
       "    <tr>\n",
       "      <th>2</th>\n",
       "      <td>3</td>\n",
       "      <td>5.06</td>\n",
       "      <td>3.00</td>\n",
       "      <td>4.01</td>\n",
       "      <td>1.03</td>\n",
       "      <td>0</td>\n",
       "    </tr>\n",
       "    <tr>\n",
       "      <th>3</th>\n",
       "      <td>4</td>\n",
       "      <td>5.05</td>\n",
       "      <td>2.05</td>\n",
       "      <td>4.00</td>\n",
       "      <td>1.03</td>\n",
       "      <td>0</td>\n",
       "    </tr>\n",
       "    <tr>\n",
       "      <th>4</th>\n",
       "      <td>5</td>\n",
       "      <td>5.05</td>\n",
       "      <td>2.06</td>\n",
       "      <td>4.04</td>\n",
       "      <td>1.02</td>\n",
       "      <td>0</td>\n",
       "    </tr>\n",
       "  </tbody>\n",
       "</table>\n",
       "</div>"
      ],
      "text/plain": [
       "   Id  SepalLengthCm  SepalWidthCm  PetalLengthCm  PetalWidthCm  Species\n",
       "0   1           6.07          3.01           4.07          1.05        0\n",
       "1   2           6.03          2.03           4.04          1.03        0\n",
       "2   3           5.06          3.00           4.01          1.03        0\n",
       "3   4           5.05          2.05           4.00          1.03        0\n",
       "4   5           5.05          2.06           4.04          1.02        0"
      ]
     },
     "execution_count": 5,
     "metadata": {},
     "output_type": "execute_result"
    }
   ],
   "source": [
    "irisDataset.head()"
   ]
  },
  {
   "cell_type": "code",
   "execution_count": 6,
   "id": "4e0cd2a8",
   "metadata": {},
   "outputs": [
    {
     "name": "stdout",
     "output_type": "stream",
     "text": [
      "    Id  SepalLengthCm  SepalWidthCm  PetalLengthCm  PetalWidthCm  Species\n",
      "0    1           6.07          3.01           4.07          1.05        0\n",
      "1    2           6.03          2.03           4.04          1.03        0\n",
      "2    3           5.06          3.00           4.01          1.03        0\n",
      "3    4           5.05          2.05           4.00          1.03        0\n",
      "4    5           5.05          2.06           4.04          1.02        0\n",
      "5    6           6.01          3.00           4.06          1.04        0\n",
      "6    7           5.08          2.06           4.00          1.02        0\n",
      "7    8           5.00          2.03           3.03          1.00        0\n",
      "8    9           5.06          2.07           4.02          1.03        0\n",
      "9   10           5.07          3.00           4.02          1.02        0\n",
      "10  11           5.07          2.06           3.05          1.00        0\n",
      "11  12           5.05          2.04           3.08          1.01        0\n",
      "12  13           5.05          2.04           3.07          1.00        0\n",
      "13  14           5.08          2.07           3.09          1.02        0\n",
      "14  15           6.00          2.07           5.01          1.06        0\n",
      "15  16           5.04          3.00           4.05          1.05        0\n",
      "16  17           6.00          3.04           4.05          1.06        0\n",
      "17  18           5.07          2.09           4.02          1.03        0\n",
      "18  19           6.02          2.09           4.03          1.03        0\n",
      "19  20           5.01          2.05           3.00          1.01        0\n",
      "20  21           5.07          2.08           4.01          1.03        0\n",
      "21  22           6.03          3.03           6.00          2.05        1\n",
      "22  23           5.08          2.07           5.01          1.09        1\n",
      "23  24           7.01          3.00           5.09          2.01        1\n",
      "24  25           6.03          2.09           5.06          1.08        1\n",
      "25  26           6.05          3.00           5.08          2.02        1\n",
      "26  27           7.06          3.00           6.06          2.01        1\n",
      "27  28           4.09          2.05           4.05          1.07        1\n",
      "28  29           7.03          2.09           6.03          1.08        1\n",
      "29  30           6.07          2.05           5.08          1.08        1\n",
      "30  31           7.02          3.06           6.01          2.05        1\n",
      "31  32           6.05          3.02           5.01          2.00        1\n",
      "32  33           6.04          2.07           5.03          1.09        1\n",
      "33  34           6.08          3.00           5.05          2.01        1\n",
      "34  35           5.07          2.05           5.00          2.00        1\n",
      "35  36           5.08          2.08           5.01          2.04        1\n",
      "36  37           6.04          3.02           5.03          2.03        1\n",
      "37  38           6.05          3.00           5.05          1.08        1\n",
      "38  39           7.07          3.08           6.07          2.02        1\n",
      "39  40           7.07          2.06           6.09          2.03        1\n",
      "40  41           6.00          2.02           5.00          1.05        1\n",
      "41  42           6.09          3.02           5.07          2.03        1\n",
      "42  43           5.06          2.08           4.09          2.00        1\n",
      "43  44           7.07          2.08           6.07          2.00        1\n",
      "44  45           6.03          2.07           4.09          1.08        1\n",
      "45  46           6.07          3.03           5.07          2.01        1\n",
      "46  47           7.02          3.02           6.00          1.08        1\n",
      "47  48           6.02          2.08           4.08          1.08        1\n",
      "48  49           6.01          3.00           4.09          1.08        1\n",
      "49  50           6.04          2.08           5.06          2.01        1\n"
     ]
    }
   ],
   "source": [
    "print(irisDataset)"
   ]
  },
  {
   "cell_type": "code",
   "execution_count": 7,
   "id": "dac2aa15",
   "metadata": {},
   "outputs": [],
   "source": [
    "irisDataset = irisDataset.drop(labels=\"Id\", axis=1)"
   ]
  },
  {
   "cell_type": "code",
   "execution_count": 8,
   "id": "33013bb4",
   "metadata": {},
   "outputs": [
    {
     "name": "stdout",
     "output_type": "stream",
     "text": [
      "    SepalLengthCm  SepalWidthCm  PetalLengthCm  PetalWidthCm  Species\n",
      "0            6.07          3.01           4.07          1.05        0\n",
      "1            6.03          2.03           4.04          1.03        0\n",
      "2            5.06          3.00           4.01          1.03        0\n",
      "3            5.05          2.05           4.00          1.03        0\n",
      "4            5.05          2.06           4.04          1.02        0\n",
      "5            6.01          3.00           4.06          1.04        0\n",
      "6            5.08          2.06           4.00          1.02        0\n",
      "7            5.00          2.03           3.03          1.00        0\n",
      "8            5.06          2.07           4.02          1.03        0\n",
      "9            5.07          3.00           4.02          1.02        0\n",
      "10           5.07          2.06           3.05          1.00        0\n",
      "11           5.05          2.04           3.08          1.01        0\n",
      "12           5.05          2.04           3.07          1.00        0\n",
      "13           5.08          2.07           3.09          1.02        0\n",
      "14           6.00          2.07           5.01          1.06        0\n",
      "15           5.04          3.00           4.05          1.05        0\n",
      "16           6.00          3.04           4.05          1.06        0\n",
      "17           5.07          2.09           4.02          1.03        0\n",
      "18           6.02          2.09           4.03          1.03        0\n",
      "19           5.01          2.05           3.00          1.01        0\n",
      "20           5.07          2.08           4.01          1.03        0\n",
      "21           6.03          3.03           6.00          2.05        1\n",
      "22           5.08          2.07           5.01          1.09        1\n",
      "23           7.01          3.00           5.09          2.01        1\n",
      "24           6.03          2.09           5.06          1.08        1\n",
      "25           6.05          3.00           5.08          2.02        1\n",
      "26           7.06          3.00           6.06          2.01        1\n",
      "27           4.09          2.05           4.05          1.07        1\n",
      "28           7.03          2.09           6.03          1.08        1\n",
      "29           6.07          2.05           5.08          1.08        1\n",
      "30           7.02          3.06           6.01          2.05        1\n",
      "31           6.05          3.02           5.01          2.00        1\n",
      "32           6.04          2.07           5.03          1.09        1\n",
      "33           6.08          3.00           5.05          2.01        1\n",
      "34           5.07          2.05           5.00          2.00        1\n",
      "35           5.08          2.08           5.01          2.04        1\n",
      "36           6.04          3.02           5.03          2.03        1\n",
      "37           6.05          3.00           5.05          1.08        1\n",
      "38           7.07          3.08           6.07          2.02        1\n",
      "39           7.07          2.06           6.09          2.03        1\n",
      "40           6.00          2.02           5.00          1.05        1\n",
      "41           6.09          3.02           5.07          2.03        1\n",
      "42           5.06          2.08           4.09          2.00        1\n",
      "43           7.07          2.08           6.07          2.00        1\n",
      "44           6.03          2.07           4.09          1.08        1\n",
      "45           6.07          3.03           5.07          2.01        1\n",
      "46           7.02          3.02           6.00          1.08        1\n",
      "47           6.02          2.08           4.08          1.08        1\n",
      "48           6.01          3.00           4.09          1.08        1\n",
      "49           6.04          2.08           5.06          2.01        1\n"
     ]
    }
   ],
   "source": [
    "print(irisDataset)"
   ]
  },
  {
   "cell_type": "code",
   "execution_count": 9,
   "id": "fc01cc20",
   "metadata": {},
   "outputs": [],
   "source": [
    "irisDataset = irisDataset.to_numpy()"
   ]
  },
  {
   "cell_type": "code",
   "execution_count": 10,
   "id": "5b13ea61",
   "metadata": {},
   "outputs": [
    {
     "name": "stdout",
     "output_type": "stream",
     "text": [
      "[[6.07 3.01 4.07 1.05 0.  ]\n",
      " [6.03 2.03 4.04 1.03 0.  ]\n",
      " [5.06 3.   4.01 1.03 0.  ]\n",
      " [5.05 2.05 4.   1.03 0.  ]\n",
      " [5.05 2.06 4.04 1.02 0.  ]\n",
      " [6.01 3.   4.06 1.04 0.  ]\n",
      " [5.08 2.06 4.   1.02 0.  ]\n",
      " [5.   2.03 3.03 1.   0.  ]\n",
      " [5.06 2.07 4.02 1.03 0.  ]\n",
      " [5.07 3.   4.02 1.02 0.  ]\n",
      " [5.07 2.06 3.05 1.   0.  ]\n",
      " [5.05 2.04 3.08 1.01 0.  ]\n",
      " [5.05 2.04 3.07 1.   0.  ]\n",
      " [5.08 2.07 3.09 1.02 0.  ]\n",
      " [6.   2.07 5.01 1.06 0.  ]\n",
      " [5.04 3.   4.05 1.05 0.  ]\n",
      " [6.   3.04 4.05 1.06 0.  ]\n",
      " [5.07 2.09 4.02 1.03 0.  ]\n",
      " [6.02 2.09 4.03 1.03 0.  ]\n",
      " [5.01 2.05 3.   1.01 0.  ]\n",
      " [5.07 2.08 4.01 1.03 0.  ]\n",
      " [6.03 3.03 6.   2.05 1.  ]\n",
      " [5.08 2.07 5.01 1.09 1.  ]\n",
      " [7.01 3.   5.09 2.01 1.  ]\n",
      " [6.03 2.09 5.06 1.08 1.  ]\n",
      " [6.05 3.   5.08 2.02 1.  ]\n",
      " [7.06 3.   6.06 2.01 1.  ]\n",
      " [4.09 2.05 4.05 1.07 1.  ]\n",
      " [7.03 2.09 6.03 1.08 1.  ]\n",
      " [6.07 2.05 5.08 1.08 1.  ]\n",
      " [7.02 3.06 6.01 2.05 1.  ]\n",
      " [6.05 3.02 5.01 2.   1.  ]\n",
      " [6.04 2.07 5.03 1.09 1.  ]\n",
      " [6.08 3.   5.05 2.01 1.  ]\n",
      " [5.07 2.05 5.   2.   1.  ]\n",
      " [5.08 2.08 5.01 2.04 1.  ]\n",
      " [6.04 3.02 5.03 2.03 1.  ]\n",
      " [6.05 3.   5.05 1.08 1.  ]\n",
      " [7.07 3.08 6.07 2.02 1.  ]\n",
      " [7.07 2.06 6.09 2.03 1.  ]\n",
      " [6.   2.02 5.   1.05 1.  ]\n",
      " [6.09 3.02 5.07 2.03 1.  ]\n",
      " [5.06 2.08 4.09 2.   1.  ]\n",
      " [7.07 2.08 6.07 2.   1.  ]\n",
      " [6.03 2.07 4.09 1.08 1.  ]\n",
      " [6.07 3.03 5.07 2.01 1.  ]\n",
      " [7.02 3.02 6.   1.08 1.  ]\n",
      " [6.02 2.08 4.08 1.08 1.  ]\n",
      " [6.01 3.   4.09 1.08 1.  ]\n",
      " [6.04 2.08 5.06 2.01 1.  ]]\n"
     ]
    }
   ],
   "source": [
    "print(irisDataset)"
   ]
  },
  {
   "cell_type": "code",
   "execution_count": 11,
   "id": "093d9a0c",
   "metadata": {},
   "outputs": [],
   "source": [
    "dataTraining = np.concatenate((irisDataset[0:40, :], irisDataset[50:90, :]), axis=0)\n",
    "dataTesting = np.concatenate((irisDataset[40:50, :], irisDataset[90:100, :]), axis=0)"
   ]
  },
  {
   "cell_type": "code",
   "execution_count": 12,
   "id": "c195da54",
   "metadata": {},
   "outputs": [
    {
     "name": "stdout",
     "output_type": "stream",
     "text": [
      "[[6.   2.02 5.   1.05 1.  ]\n",
      " [6.09 3.02 5.07 2.03 1.  ]\n",
      " [5.06 2.08 4.09 2.   1.  ]\n",
      " [7.07 2.08 6.07 2.   1.  ]\n",
      " [6.03 2.07 4.09 1.08 1.  ]\n",
      " [6.07 3.03 5.07 2.01 1.  ]\n",
      " [7.02 3.02 6.   1.08 1.  ]\n",
      " [6.02 2.08 4.08 1.08 1.  ]\n",
      " [6.01 3.   4.09 1.08 1.  ]\n",
      " [6.04 2.08 5.06 2.01 1.  ]]\n"
     ]
    },
    {
     "data": {
      "text/plain": [
       "10"
      ]
     },
     "execution_count": 12,
     "metadata": {},
     "output_type": "execute_result"
    }
   ],
   "source": [
    "print(dataTesting)\n",
    "len(dataTesting)"
   ]
  },
  {
   "cell_type": "code",
   "execution_count": 13,
   "id": "82a67598",
   "metadata": {},
   "outputs": [
    {
     "name": "stdout",
     "output_type": "stream",
     "text": [
      "[0. 0. 0. 0. 0. 0. 0. 0. 0. 0. 0. 0. 0. 0. 0. 0. 0. 0. 0. 0. 0. 1. 1. 1.\n",
      " 1. 1. 1. 1. 1. 1. 1. 1. 1. 1. 1. 1. 1. 1. 1. 1.]\n"
     ]
    },
    {
     "data": {
      "text/plain": [
       "40"
      ]
     },
     "execution_count": 13,
     "metadata": {},
     "output_type": "execute_result"
    }
   ],
   "source": [
    "inputTraining = dataTraining[:, 0:4]\n",
    "inputTesting = dataTesting[:, 0:4]\n",
    "labelTraining = dataTraining[:, 4]\n",
    "labelTesting = dataTesting[:, 4]\n",
    "print(labelTraining)\n",
    "len(labelTraining)"
   ]
  },
  {
   "cell_type": "code",
   "execution_count": 14,
   "id": "fc550bb3",
   "metadata": {},
   "outputs": [],
   "source": [
    "model = tree.DecisionTreeClassifier()"
   ]
  },
  {
   "cell_type": "code",
   "execution_count": 15,
   "id": "dc126d59",
   "metadata": {},
   "outputs": [],
   "source": [
    "model = model.fit(inputTraining, labelTraining)"
   ]
  },
  {
   "cell_type": "code",
   "execution_count": 16,
   "id": "475f4413",
   "metadata": {},
   "outputs": [
    {
     "name": "stdout",
     "output_type": "stream",
     "text": [
      "Label Sebenarnya :  [1. 1. 1. 1. 1. 1. 1. 1. 1. 1.]\n",
      "Hasil Prediksi :  [0. 1. 1. 1. 1. 1. 1. 1. 1. 1.]\n"
     ]
    }
   ],
   "source": [
    "hasilPrediksi = model.predict(inputTesting)\n",
    "print(\"Label Sebenarnya : \", labelTesting)\n",
    "print(\"Hasil Prediksi : \", hasilPrediksi)"
   ]
  },
  {
   "cell_type": "code",
   "execution_count": 17,
   "id": "b6febfba",
   "metadata": {},
   "outputs": [
    {
     "name": "stdout",
     "output_type": "stream",
     "text": [
      "Preediksi Benar : 9 data\n",
      "Prediksi Salah :  1 data\n",
      "Akurasi : 90.0 %\n"
     ]
    }
   ],
   "source": [
    "prediksiBenar = (hasilPrediksi == labelTesting).sum()\n",
    "prediksiSalah = (hasilPrediksi != labelTesting).sum()\n",
    "print(\"Preediksi Benar :\", prediksiBenar, \"data\")\n",
    "print(\"Prediksi Salah : \", prediksiSalah, \"data\")\n",
    "print(\"Akurasi :\", prediksiBenar/(prediksiBenar+prediksiSalah) * 100,\"%\")"
   ]
  },
  {
   "cell_type": "code",
   "execution_count": null,
   "id": "389c066e",
   "metadata": {},
   "outputs": [],
   "source": []
  }
 ],
 "metadata": {
  "kernelspec": {
   "display_name": "Python 3 (ipykernel)",
   "language": "python",
   "name": "python3"
  },
  "language_info": {
   "codemirror_mode": {
    "name": "ipython",
    "version": 3
   },
   "file_extension": ".py",
   "mimetype": "text/x-python",
   "name": "python",
   "nbconvert_exporter": "python",
   "pygments_lexer": "ipython3",
   "version": "3.10.4"
  }
 },
 "nbformat": 4,
 "nbformat_minor": 5
}
